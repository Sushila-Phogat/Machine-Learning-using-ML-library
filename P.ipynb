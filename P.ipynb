{
  "nbformat": 4,
  "nbformat_minor": 0,
  "metadata": {
    "colab": {
      "name": "Untitled0.ipynb",
      "provenance": [],
      "authorship_tag": "ABX9TyNTpAZKlXPIBD5t/Jp1BYC2",
      "include_colab_link": true
    },
    "kernelspec": {
      "name": "python3",
      "display_name": "Python 3"
    }
  },
  "cells": [
    {
      "cell_type": "markdown",
      "metadata": {
        "id": "view-in-github",
        "colab_type": "text"
      },
      "source": [
        "<a href=\"https://colab.research.google.com/github/Sushila-Phogat/Machine-Learning-using-ML-library/blob/master/P.ipynb\" target=\"_parent\"><img src=\"https://colab.research.google.com/assets/colab-badge.svg\" alt=\"Open In Colab\"/></a>"
      ]
    },
    {
      "cell_type": "markdown",
      "metadata": {
        "id": "_wqVwArI2nUQ",
        "colab_type": "text"
      },
      "source": [
        "# Create a (4 x 2) integer array and print it's attributes\n"
      ]
    },
    {
      "cell_type": "code",
      "metadata": {
        "id": "xnUtw76nyAxK",
        "colab_type": "code",
        "colab": {
          "base_uri": "https://localhost:8080/",
          "height": 170
        },
        "outputId": "b9b152c4-2310-407d-c869-64cb9da5023e"
      },
      "source": [
        "import numpy\n",
        "\n",
        "firstArray = numpy.empty([4,2], dtype = numpy.uint16) \n",
        "print(\"Printing Array\")\n",
        "print(firstArray)\n",
        "\n",
        "print(\"Printing numpy array Attributes\")\n",
        "print(\"1> Array Shape is: \", firstArray.shape)\n",
        "print(\"2>. Array dimensions are \", firstArray.ndim)\n",
        "print(\"3>. Length of each element of array in bytes is \", firstArray.itemsize)"
      ],
      "execution_count": 2,
      "outputs": [
        {
          "output_type": "stream",
          "text": [
            "Printing Array\n",
            "[[38704   613]\n",
            " [    0     0]\n",
            " [    2     0]\n",
            " [    0     0]]\n",
            "Printing numpy array Attributes\n",
            "1> Array Shape is:  (4, 2)\n",
            "2>. Array dimensions are  2\n",
            "3>. Length of each element of array in bytes is  2\n"
          ],
          "name": "stdout"
        }
      ]
    },
    {
      "cell_type": "markdown",
      "metadata": {
        "id": "hXfsuQqw3jau",
        "colab_type": "text"
      },
      "source": [
        "#Create an array of dimension (1,10) and sort it in ascending and descending order"
      ]
    },
    {
      "cell_type": "code",
      "metadata": {
        "id": "ovsrChxI3WVe",
        "colab_type": "code",
        "colab": {
          "base_uri": "https://localhost:8080/",
          "height": 51
        },
        "outputId": "bee5284f-6826-45ed-9092-117b5aa3facc"
      },
      "source": [
        "import numpy as np\n",
        "temp = np.arange(1,11)   \n",
        "print(temp)\n",
        "print(temp[::-1])"
      ],
      "execution_count": 59,
      "outputs": [
        {
          "output_type": "stream",
          "text": [
            "[ 1  2  3  4  5  6  7  8  9 10]\n",
            "[10  9  8  7  6  5  4  3  2  1]\n"
          ],
          "name": "stdout"
        }
      ]
    },
    {
      "cell_type": "markdown",
      "metadata": {
        "id": "6QtY-HSA4qN8",
        "colab_type": "text"
      },
      "source": [
        "#Convert an 1D array [1 2 3 4 5 6 7 8 9] to 2D array [[1 2 3], [4 5 6], [7 8 9]]"
      ]
    },
    {
      "cell_type": "code",
      "metadata": {
        "id": "nSTNfvwa4pN9",
        "colab_type": "code",
        "colab": {
          "base_uri": "https://localhost:8080/",
          "height": 68
        },
        "outputId": "39d3e4ca-f86c-46d4-9f01-51ed12265bf5"
      },
      "source": [
        "import numpy as np\n",
        "temp = np.arange(1,10)\n",
        "temp.reshape((3,3))"
      ],
      "execution_count": 15,
      "outputs": [
        {
          "output_type": "execute_result",
          "data": {
            "text/plain": [
              "array([[1, 2, 3],\n",
              "       [4, 5, 6],\n",
              "       [7, 8, 9]])"
            ]
          },
          "metadata": {
            "tags": []
          },
          "execution_count": 15
        }
      ]
    },
    {
      "cell_type": "markdown",
      "metadata": {
        "id": "eHmH6IDc5_NA",
        "colab_type": "text"
      },
      "source": [
        "#Stack two arrays of any size horizontally and vertically"
      ]
    },
    {
      "cell_type": "code",
      "metadata": {
        "id": "aR9fFezR5-T5",
        "colab_type": "code",
        "colab": {
          "base_uri": "https://localhost:8080/",
          "height": 102
        },
        "outputId": "ecd1153d-6f37-471d-c1ec-bdc088b4b42f"
      },
      "source": [
        "import numpy as np\n",
        "a = np.array((1,2,3))\n",
        "b = np.array((2,3,4))\n",
        "print('Horizontally stacked arrays are as below:')\n",
        "print(np.hstack((a,b)))\n",
        "print('Vertically stacked arrays are as below:')\n",
        "print(np.vstack((a,b)))"
      ],
      "execution_count": 17,
      "outputs": [
        {
          "output_type": "stream",
          "text": [
            "Horizontally stacked arrays are as below:\n",
            "[1 2 3 2 3 4]\n",
            "Vertically stacked arrays are as below:\n",
            "[[1 2 3]\n",
            " [2 3 4]]\n"
          ],
          "name": "stdout"
        }
      ]
    },
    {
      "cell_type": "markdown",
      "metadata": {
        "id": "2tK9HV8B7i5n",
        "colab_type": "text"
      },
      "source": [
        "#Create two array of same size and find commom elements"
      ]
    },
    {
      "cell_type": "code",
      "metadata": {
        "id": "xTYGs9at7iaQ",
        "colab_type": "code",
        "colab": {
          "base_uri": "https://localhost:8080/",
          "height": 34
        },
        "outputId": "8e8a0c00-aa5b-4e51-e62c-70acb4aae1c8"
      },
      "source": [
        "def common_elements(a, b):\n",
        "  a.sort()\n",
        "  b.sort()\n",
        "  i, j = 0, 0\n",
        "  common = []\n",
        "  while i < len(a) and j < len(b):\n",
        "    if a[i] == b[j]:\n",
        "      common.append(a[i])\n",
        "      i += 1\n",
        "      j += 1\n",
        "    elif a[i] < b[j]:\n",
        "      i += 1\n",
        "    else:\n",
        "      j += 1\n",
        "  return common\n",
        "\n",
        "print ('Common values:', ', '.join(map(str, common_elements([1, 2, 4, 8], [1, 4, 9]))))"
      ],
      "execution_count": 25,
      "outputs": [
        {
          "output_type": "stream",
          "text": [
            "Common values: 1, 4\n"
          ],
          "name": "stdout"
        }
      ]
    },
    {
      "cell_type": "markdown",
      "metadata": {
        "id": "RLEG5qwE84EI",
        "colab_type": "text"
      },
      "source": [
        "#Create a 2D array of 5 by 5 and find the min and max values from each row and each column"
      ]
    },
    {
      "cell_type": "code",
      "metadata": {
        "id": "Tc70cBxLBfOr",
        "colab_type": "code",
        "colab": {
          "base_uri": "https://localhost:8080/",
          "height": 238
        },
        "outputId": "9e4cc3a6-477e-4a05-a54c-69f54e63dec7"
      },
      "source": [
        "import numpy as np\n",
        "import random\n",
        "X = np.arange(1,26)\n",
        "\n",
        "mat = X.reshape((5,5))\n",
        "random.shuffle(mat)\n",
        "print(mat)\n",
        "\n",
        "print('Maximum elements rowwise are below: ')\n",
        "print(np.amax(mat, 1))\n",
        "print('Minimum elements rowwise are below: ')\n",
        "print(np.amin(mat,1))\n",
        "mat=np.transpose(mat)\n",
        "print('Maximum elements columwise are below: ')\n",
        "print(np.amax(mat, 1))\n",
        "print('Minimum elements columnwise are below: ')\n",
        "print(np.amin(mat,1))"
      ],
      "execution_count": 73,
      "outputs": [
        {
          "output_type": "stream",
          "text": [
            "[[ 1  2  3  4  5]\n",
            " [ 6  7  8  9 10]\n",
            " [ 1  2  3  4  5]\n",
            " [16 17 18 19 20]\n",
            " [21 22 23 24 25]]\n",
            "Maximum elements rowwise are below: \n",
            "[ 5 10  5 20 25]\n",
            "Minimum elements rowwise are below: \n",
            "[ 1  6  1 16 21]\n",
            "Maximum elements columwise are below: \n",
            "[21 22 23 24 25]\n",
            "Minimum elements columnwise are below: \n",
            "[1 2 3 4 5]\n"
          ],
          "name": "stdout"
        }
      ]
    },
    {
      "cell_type": "markdown",
      "metadata": {
        "id": "VfTIn6BpJVe-",
        "colab_type": "text"
      },
      "source": [
        "#Create an array of size 100 and compute the mean, median, standard deviation."
      ]
    },
    {
      "cell_type": "code",
      "metadata": {
        "id": "HUuxffcfJbS0",
        "colab_type": "code",
        "colab": {
          "base_uri": "https://localhost:8080/",
          "height": 170
        },
        "outputId": "1c8dec56-8af6-4123-fb9f-2989f88dd7b7"
      },
      "source": [
        "import numpy as np\n",
        "mat= np.arange(1,101)\n",
        "random.shuffle(mat)\n",
        "mat\n",
        "print(mat)\n",
        "print('Mean of arrray is :' ,np.mean(mat))\n",
        "print('Mean of arrray is :' ,np.median(mat))\n",
        "print('Mean of arrray is :' ,np.std(mat))"
      ],
      "execution_count": 82,
      "outputs": [
        {
          "output_type": "stream",
          "text": [
            "[ 31  56  82  12  34  60  67  29  64   7  24  25  98  16  17  79  61  62\n",
            "  83  21  41  14  96  87  91   4  89 100  33  73  88  26  19  81  35  54\n",
            "   1  47  55  68  57  15  99  48  50  97  13  75  30  53  39   9  22  43\n",
            "  23  95  52  69  59  93  71  11  18   3  32  37  58  63   2  74  85  45\n",
            "  27  38  70  90  66  28  77  86   8  76  84  92  36  51   6  78  49  46\n",
            "  20  80  10  42  44  65   5  40  72  94]\n",
            "Mean of arrray is : 50.5\n",
            "Mean of arrray is : 50.5\n",
            "Mean of arrray is : 28.86607004772212\n"
          ],
          "name": "stdout"
        }
      ]
    }
  ]
}